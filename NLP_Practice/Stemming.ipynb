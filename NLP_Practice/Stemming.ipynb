{
 "cells": [
  {
   "cell_type": "code",
   "execution_count": 1,
   "id": "4adceead",
   "metadata": {},
   "outputs": [],
   "source": [
    "\n",
    "words=[\"eating\",\"eats\",\"eaten\",\"writing\",\"writes\",\"programming\",\"programs\",\"history\",\"finally\",\"finalized\"]"
   ]
  },
  {
   "cell_type": "code",
   "execution_count": 2,
   "id": "fce8f280",
   "metadata": {},
   "outputs": [],
   "source": [
    "from nltk.stem import PorterStemmer\n",
    "stemmer = PorterStemmer()"
   ]
  },
  {
   "cell_type": "code",
   "execution_count": 6,
   "id": "71847327",
   "metadata": {},
   "outputs": [
    {
     "name": "stdout",
     "output_type": "stream",
     "text": [
      "eating ------> eat\n",
      "eats ------> eat\n",
      "eaten ------> eaten\n",
      "writing ------> write\n",
      "writes ------> write\n",
      "programming ------> program\n",
      "programs ------> program\n",
      "history ------> histori\n",
      "finally ------> final\n",
      "finalized ------> final\n"
     ]
    }
   ],
   "source": [
    "for word in words:\n",
    "    print(f'{word} ------> {stemmer.stem(word)}')"
   ]
  },
  {
   "cell_type": "code",
   "execution_count": 7,
   "id": "862d0554",
   "metadata": {},
   "outputs": [
    {
     "data": {
      "text/plain": [
       "'congratul'"
      ]
     },
     "execution_count": 7,
     "metadata": {},
     "output_type": "execute_result"
    }
   ],
   "source": [
    "stemmer.stem('Congratulations')"
   ]
  },
  {
   "cell_type": "code",
   "execution_count": 13,
   "id": "0b81b491",
   "metadata": {},
   "outputs": [],
   "source": [
    "from nltk.stem import SnowballStemmer\n",
    "\n",
    "snowBallStemming  = SnowballStemmer('english')"
   ]
  },
  {
   "cell_type": "code",
   "execution_count": 15,
   "id": "5679b150",
   "metadata": {},
   "outputs": [
    {
     "name": "stdout",
     "output_type": "stream",
     "text": [
      "eating Converted using SnoballStemmer--------> eat\n",
      "eating Converted using PorterStemmer------> eat\n",
      "eats Converted using SnoballStemmer--------> eat\n",
      "eats Converted using PorterStemmer------> eat\n",
      "eaten Converted using SnoballStemmer--------> eaten\n",
      "eaten Converted using PorterStemmer------> eaten\n",
      "writing Converted using SnoballStemmer--------> write\n",
      "writing Converted using PorterStemmer------> write\n",
      "writes Converted using SnoballStemmer--------> write\n",
      "writes Converted using PorterStemmer------> write\n",
      "programming Converted using SnoballStemmer--------> program\n",
      "programming Converted using PorterStemmer------> program\n",
      "programs Converted using SnoballStemmer--------> program\n",
      "programs Converted using PorterStemmer------> program\n",
      "history Converted using SnoballStemmer--------> histori\n",
      "history Converted using PorterStemmer------> histori\n",
      "finally Converted using SnoballStemmer--------> final\n",
      "finally Converted using PorterStemmer------> final\n",
      "finalized Converted using SnoballStemmer--------> final\n",
      "finalized Converted using PorterStemmer------> final\n"
     ]
    }
   ],
   "source": [
    "for word in words:\n",
    "    print(f'{word} Converted using SnoballStemmer--------> {snowBallStemming.stem(word)}')\n",
    "    print(f'{word} Converted using PorterStemmer------> {stemmer.stem(word)}')"
   ]
  },
  {
   "cell_type": "code",
   "execution_count": 16,
   "id": "795d3582",
   "metadata": {},
   "outputs": [
    {
     "data": {
      "text/plain": [
       "'congratul'"
      ]
     },
     "execution_count": 16,
     "metadata": {},
     "output_type": "execute_result"
    }
   ],
   "source": [
    "snowBallStemming.stem('Congratulations')"
   ]
  }
 ],
 "metadata": {
  "kernelspec": {
   "display_name": ".venv",
   "language": "python",
   "name": "python3"
  },
  "language_info": {
   "codemirror_mode": {
    "name": "ipython",
    "version": 3
   },
   "file_extension": ".py",
   "mimetype": "text/x-python",
   "name": "python",
   "nbconvert_exporter": "python",
   "pygments_lexer": "ipython3",
   "version": "3.11.9"
  }
 },
 "nbformat": 4,
 "nbformat_minor": 5
}
